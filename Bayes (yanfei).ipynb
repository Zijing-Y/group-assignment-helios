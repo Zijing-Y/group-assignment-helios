{
 "cells": [
  {
   "cell_type": "markdown",
   "metadata": {},
   "source": [
    "# Load Data"
   ]
  },
  {
   "cell_type": "code",
   "execution_count": null,
   "metadata": {},
   "outputs": [],
   "source": [
    "import pandas as pd"
   ]
  },
  {
   "cell_type": "code",
   "execution_count": 4,
   "metadata": {},
   "outputs": [],
   "source": [
    "training_data = pd.read_excel('training_data.xlsx')"
   ]
  },
  {
   "cell_type": "code",
   "execution_count": 5,
   "metadata": {},
   "outputs": [],
   "source": [
    "testing_data = pd.read_excel('testing_data.xlsx')"
   ]
  },
  {
   "cell_type": "code",
   "execution_count": 6,
   "metadata": {},
   "outputs": [
    {
     "name": "stdout",
     "output_type": "stream",
     "text": [
      "<class 'pandas.core.frame.DataFrame'>\n",
      "RangeIndex: 32950 entries, 0 to 32949\n",
      "Data columns (total 21 columns):\n",
      " #   Column          Non-Null Count  Dtype  \n",
      "---  ------          --------------  -----  \n",
      " 0   age             32950 non-null  int64  \n",
      " 1   job             32950 non-null  int64  \n",
      " 2   marital         32950 non-null  int64  \n",
      " 3   education       32950 non-null  int64  \n",
      " 4   default         32950 non-null  int64  \n",
      " 5   housing         32950 non-null  int64  \n",
      " 6   loan            32950 non-null  int64  \n",
      " 7   contact         32950 non-null  int64  \n",
      " 8   month           32950 non-null  int64  \n",
      " 9   day_of_week     32950 non-null  int64  \n",
      " 10  duration        32950 non-null  int64  \n",
      " 11  campaign        32950 non-null  int64  \n",
      " 12  pdays           32950 non-null  int64  \n",
      " 13  previous        32950 non-null  int64  \n",
      " 14  poutcome        32950 non-null  int64  \n",
      " 15  emp.var.rate    32950 non-null  float64\n",
      " 16  cons.price.idx  32950 non-null  float64\n",
      " 17  cons.conf.idx   32950 non-null  float64\n",
      " 18  euribor3m       32950 non-null  float64\n",
      " 19  nr.employed     32950 non-null  float64\n",
      " 20  y               32950 non-null  int64  \n",
      "dtypes: float64(5), int64(16)\n",
      "memory usage: 5.3 MB\n"
     ]
    }
   ],
   "source": [
    "training_data.info()"
   ]
  },
  {
   "cell_type": "code",
   "execution_count": 7,
   "metadata": {},
   "outputs": [
    {
     "data": {
      "text/html": [
       "<div>\n",
       "<style scoped>\n",
       "    .dataframe tbody tr th:only-of-type {\n",
       "        vertical-align: middle;\n",
       "    }\n",
       "\n",
       "    .dataframe tbody tr th {\n",
       "        vertical-align: top;\n",
       "    }\n",
       "\n",
       "    .dataframe thead th {\n",
       "        text-align: right;\n",
       "    }\n",
       "</style>\n",
       "<table border=\"1\" class=\"dataframe\">\n",
       "  <thead>\n",
       "    <tr style=\"text-align: right;\">\n",
       "      <th></th>\n",
       "      <th>age</th>\n",
       "      <th>job</th>\n",
       "      <th>marital</th>\n",
       "      <th>education</th>\n",
       "      <th>default</th>\n",
       "      <th>housing</th>\n",
       "      <th>loan</th>\n",
       "      <th>contact</th>\n",
       "      <th>month</th>\n",
       "      <th>day_of_week</th>\n",
       "      <th>...</th>\n",
       "      <th>campaign</th>\n",
       "      <th>pdays</th>\n",
       "      <th>previous</th>\n",
       "      <th>poutcome</th>\n",
       "      <th>emp.var.rate</th>\n",
       "      <th>cons.price.idx</th>\n",
       "      <th>cons.conf.idx</th>\n",
       "      <th>euribor3m</th>\n",
       "      <th>nr.employed</th>\n",
       "      <th>y</th>\n",
       "    </tr>\n",
       "  </thead>\n",
       "  <tbody>\n",
       "    <tr>\n",
       "      <th>0</th>\n",
       "      <td>42</td>\n",
       "      <td>7</td>\n",
       "      <td>1</td>\n",
       "      <td>0</td>\n",
       "      <td>0</td>\n",
       "      <td>0</td>\n",
       "      <td>0</td>\n",
       "      <td>0</td>\n",
       "      <td>3</td>\n",
       "      <td>1</td>\n",
       "      <td>...</td>\n",
       "      <td>3</td>\n",
       "      <td>999</td>\n",
       "      <td>0</td>\n",
       "      <td>1</td>\n",
       "      <td>1.4</td>\n",
       "      <td>93.918</td>\n",
       "      <td>-42.7</td>\n",
       "      <td>4.962</td>\n",
       "      <td>5228.1</td>\n",
       "      <td>0</td>\n",
       "    </tr>\n",
       "    <tr>\n",
       "      <th>1</th>\n",
       "      <td>37</td>\n",
       "      <td>1</td>\n",
       "      <td>2</td>\n",
       "      <td>1</td>\n",
       "      <td>1</td>\n",
       "      <td>2</td>\n",
       "      <td>0</td>\n",
       "      <td>1</td>\n",
       "      <td>6</td>\n",
       "      <td>2</td>\n",
       "      <td>...</td>\n",
       "      <td>1</td>\n",
       "      <td>999</td>\n",
       "      <td>0</td>\n",
       "      <td>1</td>\n",
       "      <td>1.1</td>\n",
       "      <td>93.994</td>\n",
       "      <td>-36.4</td>\n",
       "      <td>4.855</td>\n",
       "      <td>5191.0</td>\n",
       "      <td>0</td>\n",
       "    </tr>\n",
       "    <tr>\n",
       "      <th>2</th>\n",
       "      <td>43</td>\n",
       "      <td>0</td>\n",
       "      <td>1</td>\n",
       "      <td>6</td>\n",
       "      <td>0</td>\n",
       "      <td>2</td>\n",
       "      <td>0</td>\n",
       "      <td>1</td>\n",
       "      <td>6</td>\n",
       "      <td>0</td>\n",
       "      <td>...</td>\n",
       "      <td>2</td>\n",
       "      <td>999</td>\n",
       "      <td>0</td>\n",
       "      <td>1</td>\n",
       "      <td>1.1</td>\n",
       "      <td>93.994</td>\n",
       "      <td>-36.4</td>\n",
       "      <td>4.864</td>\n",
       "      <td>5191.0</td>\n",
       "      <td>0</td>\n",
       "    </tr>\n",
       "    <tr>\n",
       "      <th>3</th>\n",
       "      <td>53</td>\n",
       "      <td>6</td>\n",
       "      <td>1</td>\n",
       "      <td>2</td>\n",
       "      <td>0</td>\n",
       "      <td>2</td>\n",
       "      <td>0</td>\n",
       "      <td>0</td>\n",
       "      <td>7</td>\n",
       "      <td>1</td>\n",
       "      <td>...</td>\n",
       "      <td>1</td>\n",
       "      <td>999</td>\n",
       "      <td>0</td>\n",
       "      <td>1</td>\n",
       "      <td>-0.1</td>\n",
       "      <td>93.200</td>\n",
       "      <td>-42.0</td>\n",
       "      <td>4.191</td>\n",
       "      <td>5195.8</td>\n",
       "      <td>0</td>\n",
       "    </tr>\n",
       "    <tr>\n",
       "      <th>4</th>\n",
       "      <td>33</td>\n",
       "      <td>0</td>\n",
       "      <td>1</td>\n",
       "      <td>6</td>\n",
       "      <td>0</td>\n",
       "      <td>2</td>\n",
       "      <td>0</td>\n",
       "      <td>0</td>\n",
       "      <td>1</td>\n",
       "      <td>4</td>\n",
       "      <td>...</td>\n",
       "      <td>3</td>\n",
       "      <td>999</td>\n",
       "      <td>0</td>\n",
       "      <td>1</td>\n",
       "      <td>1.4</td>\n",
       "      <td>93.444</td>\n",
       "      <td>-36.1</td>\n",
       "      <td>4.964</td>\n",
       "      <td>5228.1</td>\n",
       "      <td>0</td>\n",
       "    </tr>\n",
       "  </tbody>\n",
       "</table>\n",
       "<p>5 rows × 21 columns</p>\n",
       "</div>"
      ],
      "text/plain": [
       "   age  job  marital  education  default  housing  loan  contact  month  \\\n",
       "0   42    7        1          0        0        0     0        0      3   \n",
       "1   37    1        2          1        1        2     0        1      6   \n",
       "2   43    0        1          6        0        2     0        1      6   \n",
       "3   53    6        1          2        0        2     0        0      7   \n",
       "4   33    0        1          6        0        2     0        0      1   \n",
       "\n",
       "   day_of_week  ...  campaign  pdays  previous  poutcome  emp.var.rate  \\\n",
       "0            1  ...         3    999         0         1           1.4   \n",
       "1            2  ...         1    999         0         1           1.1   \n",
       "2            0  ...         2    999         0         1           1.1   \n",
       "3            1  ...         1    999         0         1          -0.1   \n",
       "4            4  ...         3    999         0         1           1.4   \n",
       "\n",
       "   cons.price.idx  cons.conf.idx  euribor3m  nr.employed  y  \n",
       "0          93.918          -42.7      4.962       5228.1  0  \n",
       "1          93.994          -36.4      4.855       5191.0  0  \n",
       "2          93.994          -36.4      4.864       5191.0  0  \n",
       "3          93.200          -42.0      4.191       5195.8  0  \n",
       "4          93.444          -36.1      4.964       5228.1  0  \n",
       "\n",
       "[5 rows x 21 columns]"
      ]
     },
     "execution_count": 7,
     "metadata": {},
     "output_type": "execute_result"
    }
   ],
   "source": [
    "training_data.head()"
   ]
  },
  {
   "cell_type": "code",
   "execution_count": 18,
   "metadata": {
    "scrolled": true
   },
   "outputs": [
    {
     "data": {
      "text/plain": [
       "(32950, 21)"
      ]
     },
     "execution_count": 18,
     "metadata": {},
     "output_type": "execute_result"
    }
   ],
   "source": [
    "training_data.shape"
   ]
  },
  {
   "cell_type": "code",
   "execution_count": 19,
   "metadata": {},
   "outputs": [
    {
     "data": {
      "text/plain": [
       "(8238, 21)"
      ]
     },
     "execution_count": 19,
     "metadata": {},
     "output_type": "execute_result"
    }
   ],
   "source": [
    "testing_data.shape"
   ]
  },
  {
   "cell_type": "code",
   "execution_count": 29,
   "metadata": {},
   "outputs": [],
   "source": [
    "xs_train = training_data.loc[0:, training_data.columns!='y']\n",
    "ys_train = training_data['y']\n",
    "xs_test = testing_data.loc[0:, testing_data.columns!='y']\n",
    "ys_test = testing_data['y']"
   ]
  },
  {
   "cell_type": "markdown",
   "metadata": {},
   "source": [
    "# Beyes Modelling"
   ]
  },
  {
   "cell_type": "markdown",
   "metadata": {},
   "source": [
    "## Gaussian Model"
   ]
  },
  {
   "cell_type": "code",
   "execution_count": 36,
   "metadata": {},
   "outputs": [],
   "source": [
    "from sklearn import naive_bayes\n",
    "from sklearn import metrics"
   ]
  },
  {
   "cell_type": "code",
   "execution_count": 54,
   "metadata": {},
   "outputs": [
    {
     "name": "stdout",
     "output_type": "stream",
     "text": [
      "training data score: 0.8474658573596359\n",
      "testing data score: 0.8421947074532653\n",
      "accuracy score: 0.8421947074532653\n"
     ]
    }
   ],
   "source": [
    "# fit the model\n",
    "clf = naive_bayes.GaussianNB()\n",
    "clf.fit(xs_train,ys_train)\n",
    "ys_pred = clf.predict(xs_test)\n",
    "ys_pred_proba = clf.predict_proba(xs_test)\n",
    "ys_pred_log_proba = clf.predict_log_proba(xs_test)\n",
    "# model result\n",
    "print('training data score:', clf.score(xs_train,ys_train))\n",
    "print('testing data score:', clf.score(xs_test,ys_test))\n",
    "print(\"accuracy score:\", metrics.accuracy_score(ys_test,ys_pred))"
   ]
  },
  {
   "cell_type": "code",
   "execution_count": 55,
   "metadata": {},
   "outputs": [
    {
     "name": "stdout",
     "output_type": "stream",
     "text": [
      "              precision    recall  f1-score   support\n",
      "\n",
      "           0       0.94      0.87      0.91      7277\n",
      "           1       0.39      0.60      0.47       961\n",
      "\n",
      "    accuracy                           0.84      8238\n",
      "   macro avg       0.66      0.74      0.69      8238\n",
      "weighted avg       0.88      0.84      0.86      8238\n",
      "\n"
     ]
    }
   ],
   "source": [
    "# report model result\n",
    "from sklearn.metrics import classification_report\n",
    "print(classification_report(ys_test, ys_pred))"
   ]
  },
  {
   "cell_type": "markdown",
   "metadata": {},
   "source": [
    "## Naive Bayes Model "
   ]
  },
  {
   "cell_type": "code",
   "execution_count": 56,
   "metadata": {},
   "outputs": [],
   "source": [
    "# drop the continuous variables to fit naive bayes model\n",
    "xs_train2 = training_data.drop(['pdays','emp.var.rate','duration', 'cons.price.idx', 'cons.conf.idx', 'euribor3m', 'nr.employed', 'y'],axis=1)\n",
    "xs_test2 = testing_data.drop(['pdays','emp.var.rate','duration', 'cons.price.idx', 'cons.conf.idx', 'euribor3m', 'nr.employed', 'y'],axis=1)"
   ]
  },
  {
   "cell_type": "code",
   "execution_count": 57,
   "metadata": {},
   "outputs": [
    {
     "name": "stdout",
     "output_type": "stream",
     "text": [
      "training data score: 0.8896813353566009\n",
      "testing data score: 0.8839524156348628\n",
      "accuracy score: 0.8839524156348628\n"
     ]
    }
   ],
   "source": [
    "# fit the model\n",
    "clf2 = naive_bayes.MultinomialNB(alpha=1.0, fit_prior=True, class_prior=None)\n",
    "clf2.fit(xs_train2,ys_train)\n",
    "ys_pred2 = clf2.predict(xs_test2)\n",
    "ys_pred_proba2 = clf2.predict_proba(xs_test2)\n",
    "ys_pred_log_proba2 = clf2.predict_log_proba(xs_test2)\n",
    "# model result\n",
    "print('training data score:', clf2.score(xs_train2,ys_train))\n",
    "print('testing data score:', clf2.score(xs_test2,ys_test))\n",
    "print(\"accuracy score:\", metrics.accuracy_score(ys_test,ys_pred2))"
   ]
  },
  {
   "cell_type": "code",
   "execution_count": 58,
   "metadata": {},
   "outputs": [
    {
     "name": "stdout",
     "output_type": "stream",
     "text": [
      "              precision    recall  f1-score   support\n",
      "\n",
      "           0       0.89      0.99      0.94      7277\n",
      "           1       0.51      0.12      0.19       961\n",
      "\n",
      "    accuracy                           0.88      8238\n",
      "   macro avg       0.70      0.55      0.56      8238\n",
      "weighted avg       0.85      0.88      0.85      8238\n",
      "\n"
     ]
    }
   ],
   "source": [
    "# report model result\n",
    "print(classification_report(ys_test, ys_pred2))"
   ]
  },
  {
   "cell_type": "code",
   "execution_count": null,
   "metadata": {},
   "outputs": [],
   "source": []
  }
 ],
 "metadata": {
  "kernelspec": {
   "display_name": "Python 3",
   "language": "python",
   "name": "python3"
  },
  "language_info": {
   "codemirror_mode": {
    "name": "ipython",
    "version": 3
   },
   "file_extension": ".py",
   "mimetype": "text/x-python",
   "name": "python",
   "nbconvert_exporter": "python",
   "pygments_lexer": "ipython3",
   "version": "3.8.5"
  }
 },
 "nbformat": 4,
 "nbformat_minor": 4
}
